{
 "cells": [
  {
   "cell_type": "markdown",
   "metadata": {},
   "source": [
    "# Måle inn punkt med GNSS\n",
    "Vi skal måle gjennomsnitt på de forskjellige måtene vi har samlet inn data. Vi har en KML fil med data fra RTK'n, og et datasett fra telefon. \n",
    "\n",
    "## Gjennomsnitt ved RTK målinger\n",
    "Først får vi ut koordinatene fra KML filen og lagrer det i et array."
   ]
  },
  {
   "cell_type": "code",
   "execution_count": 49,
   "metadata": {},
   "outputs": [
    {
     "data": {
      "text/plain": [
       "[[10.77530275, 59.66589043],\n",
       " [10.77530274, 59.66589059],\n",
       " [10.7753027, 59.6658904],\n",
       " [10.77530269, 59.66589036],\n",
       " [10.77530294, 59.6658903],\n",
       " [10.77530266, 59.66589073],\n",
       " [10.77530263, 59.66589051]]"
      ]
     },
     "execution_count": 49,
     "metadata": {},
     "output_type": "execute_result"
    }
   ],
   "source": [
    "import xml.etree.ElementTree as ET\n",
    "import numpy as np\n",
    "\n",
    "\n",
    "def extract_coordinates_kml_RTK (kml_file):\n",
    "    tree = ET.parse(kml_file)\n",
    "    root = tree.getroot()\n",
    "    \n",
    "    # Namespace er noe vi må ha med siden det ikke er en XML fil\n",
    "    namespace = {'kml': 'http://www.opengis.net/kml/2.2'}\n",
    "\n",
    "    # Går igjennom alle punktene - må her også ha spesielt format pga kml-fil\n",
    "\n",
    "    coordinates = []\n",
    "\n",
    "    for placemark in root.findall('.//kml:Placemark', namespace):\n",
    "            longitude = placemark.find('.//kml:SimpleData[@name=\"Longitude\"]', namespace).text\n",
    "            latitude = placemark.find('.//kml:SimpleData[@name=\"Latitude\"]', namespace).text\n",
    "            coordinates.append([float(longitude), float(latitude)])\n",
    "    return coordinates\n",
    "\n",
    "extract_coordinates_kml_RTK('RTK.kml')"
   ]
  },
  {
   "cell_type": "markdown",
   "metadata": {},
   "source": [
    "Så lager vi en funkjson for å beregne gjennomsnitt:"
   ]
  },
  {
   "cell_type": "code",
   "execution_count": 50,
   "metadata": {},
   "outputs": [],
   "source": [
    "\n",
    "def average_coordinates(array_input):\n",
    "    coordinates = np.array(array_input)\n",
    "\n",
    "    # Må ha axis=0 slik at funksjonen ikke regner ut gjennomsnittet av alle punktene\n",
    "    average_coordinates_point = np.mean(coordinates, axis=0)\n",
    "    print('Gjennomsnittskoordinatet er:', average_coordinates_point)\n"
   ]
  },
  {
   "cell_type": "markdown",
   "metadata": {},
   "source": [
    "Kjører denne funksjonen på punktene målt med RTK."
   ]
  },
  {
   "cell_type": "code",
   "execution_count": 51,
   "metadata": {},
   "outputs": [
    {
     "name": "stdout",
     "output_type": "stream",
     "text": [
      "Gjennomsnittskoordinatet er: [10.77530273 59.66589047]\n"
     ]
    }
   ],
   "source": [
    "average_coordinates(extract_coordinates_kml_RTK('RTK.kml'))"
   ]
  },
  {
   "cell_type": "markdown",
   "metadata": {},
   "source": [
    "## Gjennomsnitt ved mobil\n",
    "\n",
    "Her har vi to ulike måter. Filen vi fikk fra Trygve i tilfelle NMEA dataen viser seg trøblete\n",
    "\n",
    "### Trygves data\n",
    "\n",
    "Trekker så ut punktene fra KML filen fra Trygves mobil, og lager ett array av de. Funksjonen blir veldig lik den forrige funksjonen, men med små endringer (Bryter litt med DNRY)"
   ]
  },
  {
   "cell_type": "code",
   "execution_count": 53,
   "metadata": {},
   "outputs": [],
   "source": [
    "def extract_coordinates_kml_mobil (kml_file):\n",
    "    tree = ET.parse(kml_file)\n",
    "    root = tree.getroot()\n",
    "\n",
    "    # Må bruke http://www.google.com/kml/ext/2.2 her i stedet for klm, siden gx:coord er google spesifik .klm\n",
    "    namespace = {'gx': 'http://www.google.com/kml/ext/2.2'}\n",
    "\n",
    "    coordinates = []\n",
    "    for coord in root.findall('.//gx:coord', namespace):\n",
    "        #understreken her var kul\n",
    "        lon, lat, _ = map(float, coord.text.split())\n",
    "        coordinates.append([lon, lat])\n",
    "\n",
    "    return coordinates"
   ]
  },
  {
   "cell_type": "markdown",
   "metadata": {},
   "source": [
    "Kjører så gjennomsnittsfunksjonen for å finne ut gjennomsnittet ved disse målingene"
   ]
  },
  {
   "cell_type": "code",
   "execution_count": 54,
   "metadata": {},
   "outputs": [
    {
     "name": "stdout",
     "output_type": "stream",
     "text": [
      "Gjennomsnittskoordinatet er: [10.77532085 59.6658624 ]\n"
     ]
    }
   ],
   "source": [
    "average_coordinates(extract_coordinates_kml_mobil('trygve_data.kml'))"
   ]
  }
 ],
 "metadata": {
  "kernelspec": {
   "display_name": "env",
   "language": "python",
   "name": "python3"
  },
  "language_info": {
   "codemirror_mode": {
    "name": "ipython",
    "version": 3
   },
   "file_extension": ".py",
   "mimetype": "text/x-python",
   "name": "python",
   "nbconvert_exporter": "python",
   "pygments_lexer": "ipython3",
   "version": "3.11.6"
  }
 },
 "nbformat": 4,
 "nbformat_minor": 2
}

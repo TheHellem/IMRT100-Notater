{
 "cells": [
  {
   "cell_type": "markdown",
   "metadata": {},
   "source": [
    "# Introduksjon til Jupyter Notebook (forelesing)\n",
    "\n",
    "Vi starter dagen med å skrive funksjoner som konverterer mellom grader, radianer og gon."
   ]
  },
  {
   "cell_type": "code",
   "execution_count": 1,
   "metadata": {},
   "outputs": [],
   "source": [
    "import numpy as np\n",
    "\n",
    "# Om man ønsker å runde ned til signifikante tall kan man bruke round()\n",
    "import math\n",
    "\n",
    "def deg2rad(deg): return deg*(np.pi/180)\n",
    "\n",
    "def rad2deg(rad): return rad*(180/np.pi)\n",
    "\n",
    "def gon2deg(gon): return gon/0.9\n",
    "\n",
    "def deg2gon(deg): return deg * 0.9\n",
    "\n",
    "def gon2rad(gon): return (gon*np.pi)/200\n",
    "\n",
    "def rad2gon(rad): return (200*rad)/np.pi\n"
   ]
  },
  {
   "cell_type": "markdown",
   "metadata": {},
   "source": [
    "## Regne gjennomsnitt fra csv filer"
   ]
  },
  {
   "cell_type": "code",
   "execution_count": 12,
   "metadata": {},
   "outputs": [
    {
     "name": "stdout",
     "output_type": "stream",
     "text": [
      "[[10.77530275 59.66589043]\n",
      " [10.77530274 59.66589059]\n",
      " [10.7753027  59.6658904 ]\n",
      " [10.77530269 59.66589036]\n",
      " [10.77530294 59.6658903 ]\n",
      " [10.77530266 59.66589073]\n",
      " [10.77530263 59.66589051]]\n",
      "Gjennomsnittet for dataset: [ 600012.28318187 6615537.48169507]\n",
      "[1.22477852 1.39692817]\n"
     ]
    }
   ],
   "source": [
    "import pandas as pd\n",
    "import numpy as np\n",
    "\n",
    "\n",
    "df = pd.read_csv('dataset/trygve_mobil_UTM32.csv')\n",
    "arr = df.to_numpy()\n",
    "arr_mean = np.mean(arr, axis=0)\n",
    "arr_std = np.std(arr, axis=0)\n",
    "\n",
    "print(f'Gjennomsnittet for dataset: {arr_mean}')\n",
    "print(f'Standardavviket for dataset er: {arr_std}')"
   ]
  }
 ],
 "metadata": {
  "kernelspec": {
   "display_name": "env",
   "language": "python",
   "name": "python3"
  },
  "language_info": {
   "codemirror_mode": {
    "name": "ipython",
    "version": 3
   },
   "file_extension": ".py",
   "mimetype": "text/x-python",
   "name": "python",
   "nbconvert_exporter": "python",
   "pygments_lexer": "ipython3",
   "version": "3.11.6"
  }
 },
 "nbformat": 4,
 "nbformat_minor": 2
}

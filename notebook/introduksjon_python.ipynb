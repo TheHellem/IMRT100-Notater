{
 "cells": [
  {
   "cell_type": "markdown",
   "metadata": {},
   "source": [
    "# Introduksjon til Jupyter Notebook (forelesing)\n",
    "\n",
    "Vi starter dagen med å skrive funksjoner som konverterer mellom grader, radianer og gon."
   ]
  },
  {
   "cell_type": "code",
   "execution_count": 13,
   "metadata": {},
   "outputs": [
    {
     "name": "stdout",
     "output_type": "stream",
     "text": [
      "100.0\n"
     ]
    }
   ],
   "source": [
    "from numpy import pi\n",
    "\n",
    "# Om man ønsker å runde ned til signifikante tall kan man bruke round()\n",
    "import math\n",
    "\n",
    "def deg2rad(deg): return deg*(pi/180)\n",
    "\n",
    "def rad2deg(rad): return rad*(180/pi)\n",
    "\n",
    "def gon2deg(gon): return gon/0.9\n",
    "\n",
    "def deg2gon(deg): return deg * 0.9\n",
    "\n",
    "def gon2rad(gon): return (gon*pi)/200\n",
    "\n",
    "def rad2gon(rad): return (200*rad)/pi\n"
   ]
  },
  {
   "cell_type": "markdown",
   "metadata": {},
   "source": [
    "## Regne gjennomsnitt fra csv filer"
   ]
  },
  {
   "cell_type": "code",
   "execution_count": null,
   "metadata": {},
   "outputs": [],
   "source": [
    "\n",
    "def read_csv(file_name):\n",
    "    with open(file_name, 'r') as file:\n",
    "        line = csv.reader(file)"
   ]
  }
 ],
 "metadata": {
  "kernelspec": {
   "display_name": "env",
   "language": "python",
   "name": "python3"
  },
  "language_info": {
   "codemirror_mode": {
    "name": "ipython",
    "version": 3
   },
   "file_extension": ".py",
   "mimetype": "text/x-python",
   "name": "python",
   "nbconvert_exporter": "python",
   "pygments_lexer": "ipython3",
   "version": "3.11.6"
  }
 },
 "nbformat": 4,
 "nbformat_minor": 2
}

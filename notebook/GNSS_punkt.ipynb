{
 "cells": [
  {
   "cell_type": "markdown",
   "metadata": {},
   "source": [
    "# Måle inn punkt med GNSS\n",
    "Vi skal måle gjennomsnitt på de forskjellige måtene vi har samlet inn data. Vi har en KML fil med data fra RTK'n, og et datasett fra telefon. \n",
    "\n",
    "## Gjennomsnitt ved RTK målinger\n",
    "Først får vi ut koordinatene fra KML filen og lagrer det i et array."
   ]
  },
  {
   "cell_type": "code",
   "execution_count": 3,
   "metadata": {},
   "outputs": [
    {
     "ename": "ModuleNotFoundError",
     "evalue": "No module named 'matplotlib'",
     "output_type": "error",
     "traceback": [
      "\u001b[0;31m---------------------------------------------------------------------------\u001b[0m",
      "\u001b[0;31mModuleNotFoundError\u001b[0m                       Traceback (most recent call last)",
      "\u001b[1;32m/home/henrikh/geomatikk/IMRT100_Gruppe2_Notater/notebook/GNSS_punkt.ipynb Cell 2\u001b[0m line \u001b[0;36m3\n\u001b[1;32m      <a href='vscode-notebook-cell:/home/henrikh/geomatikk/IMRT100_Gruppe2_Notater/notebook/GNSS_punkt.ipynb#X15sZmlsZQ%3D%3D?line=0'>1</a>\u001b[0m \u001b[39mimport\u001b[39;00m \u001b[39mxml\u001b[39;00m\u001b[39m.\u001b[39;00m\u001b[39metree\u001b[39;00m\u001b[39m.\u001b[39;00m\u001b[39mElementTree\u001b[39;00m \u001b[39mas\u001b[39;00m \u001b[39mET\u001b[39;00m\n\u001b[1;32m      <a href='vscode-notebook-cell:/home/henrikh/geomatikk/IMRT100_Gruppe2_Notater/notebook/GNSS_punkt.ipynb#X15sZmlsZQ%3D%3D?line=1'>2</a>\u001b[0m \u001b[39mimport\u001b[39;00m \u001b[39mnumpy\u001b[39;00m \u001b[39mas\u001b[39;00m \u001b[39mnp\u001b[39;00m\n\u001b[0;32m----> <a href='vscode-notebook-cell:/home/henrikh/geomatikk/IMRT100_Gruppe2_Notater/notebook/GNSS_punkt.ipynb#X15sZmlsZQ%3D%3D?line=2'>3</a>\u001b[0m \u001b[39mimport\u001b[39;00m \u001b[39mmatplotlib\u001b[39;00m\u001b[39m.\u001b[39;00m\u001b[39mpyplot\u001b[39;00m \u001b[39mas\u001b[39;00m \u001b[39mplt\u001b[39;00m\n",
      "\u001b[0;31mModuleNotFoundError\u001b[0m: No module named 'matplotlib'"
     ]
    }
   ],
   "source": [
    "import xml.etree.ElementTree as ET\n",
    "import numpy as np\n",
    "import matplotlib.pyplot as plt"
   ]
  },
  {
   "cell_type": "code",
   "execution_count": null,
   "metadata": {},
   "outputs": [
    {
     "data": {
      "text/plain": [
       "[[10.77530275, 59.66589043],\n",
       " [10.77530274, 59.66589059],\n",
       " [10.7753027, 59.6658904],\n",
       " [10.77530269, 59.66589036],\n",
       " [10.77530294, 59.6658903],\n",
       " [10.77530266, 59.66589073],\n",
       " [10.77530263, 59.66589051]]"
      ]
     },
     "execution_count": 49,
     "metadata": {},
     "output_type": "execute_result"
    }
   ],
   "source": [
    "def extract_coordinates_kml_RTK (kml_file):\n",
    "    tree = ET.parse(kml_file)\n",
    "    root = tree.getroot()\n",
    "    \n",
    "    # Namespace er noe vi må ha med siden det ikke er en XML fil\n",
    "    namespace = {'kml': 'http://www.opengis.net/kml/2.2'}\n",
    "\n",
    "    # Går igjennom alle punktene - må her også ha spesielt format pga kml-fil\n",
    "\n",
    "    coordinates = []\n",
    "\n",
    "    for placemark in root.findall('.//kml:Placemark', namespace):\n",
    "            longitude = placemark.find('.//kml:SimpleData[@name=\"Longitude\"]', namespace).text\n",
    "            latitude = placemark.find('.//kml:SimpleData[@name=\"Latitude\"]', namespace).text\n",
    "            coordinates.append([float(longitude), float(latitude)])\n",
    "    return coordinates\n",
    "\n",
    "extract_coordinates_kml_RTK('RTK.kml')"
   ]
  },
  {
   "cell_type": "markdown",
   "metadata": {},
   "source": [
    "Så lager vi en funkjson for å beregne gjennomsnitt:"
   ]
  },
  {
   "cell_type": "code",
   "execution_count": null,
   "metadata": {},
   "outputs": [],
   "source": [
    "\n",
    "def average_coordinates(array_input):\n",
    "    coordinates = np.array(array_input)\n",
    "\n",
    "    # Må ha axis=0 slik at funksjonen ikke regner ut gjennomsnittet av alle punktene\n",
    "    average_coordinates_point = np.mean(coordinates, axis=0)\n",
    "    print('Gjennomsnittskoordinatet er:', average_coordinates_point)\n"
   ]
  },
  {
   "cell_type": "markdown",
   "metadata": {},
   "source": [
    "Kjører denne funksjonen på punktene målt med RTK."
   ]
  },
  {
   "cell_type": "code",
   "execution_count": null,
   "metadata": {},
   "outputs": [
    {
     "name": "stdout",
     "output_type": "stream",
     "text": [
      "Gjennomsnittskoordinatet er: [10.77530273 59.66589047]\n"
     ]
    }
   ],
   "source": [
    "average_coordinates(extract_coordinates_kml_RTK('RTK.kml'))"
   ]
  },
  {
   "cell_type": "markdown",
   "metadata": {},
   "source": [
    "## Gjennomsnitt ved mobil\n",
    "\n",
    "Her har vi to ulike måter. Filen vi fikk fra Trygve i tilfelle NMEA dataen viser seg trøblete\n",
    "\n",
    "### Trygves data\n",
    "\n",
    "Trekker så ut punktene fra KML filen fra Trygves mobil, og lager ett array av de. Funksjonen blir veldig lik den forrige funksjonen, men med små endringer (Bryter litt med DNRY)"
   ]
  },
  {
   "cell_type": "code",
   "execution_count": null,
   "metadata": {},
   "outputs": [],
   "source": [
    "def extract_coordinates_kml_mobil (kml_file):\n",
    "    tree = ET.parse(kml_file)\n",
    "    root = tree.getroot()\n",
    "\n",
    "    # Må bruke http://www.google.com/kml/ext/2.2 her i stedet for klm, siden gx:coord er google spesifik .klm\n",
    "    namespace = {'gx': 'http://www.google.com/kml/ext/2.2'}\n",
    "\n",
    "    coordinates = []\n",
    "    for coord in root.findall('.//gx:coord', namespace):\n",
    "        #understreken her var kul\n",
    "        lon, lat, _ = map(float, coord.text.split())\n",
    "        coordinates.append([lon, lat])\n",
    "\n",
    "    return coordinates"
   ]
  },
  {
   "cell_type": "markdown",
   "metadata": {},
   "source": [
    "Kjører så gjennomsnittsfunksjonen for å finne ut gjennomsnittet ved disse målingene"
   ]
  },
  {
   "cell_type": "code",
   "execution_count": null,
   "metadata": {},
   "outputs": [
    {
     "name": "stdout",
     "output_type": "stream",
     "text": [
      "Gjennomsnittskoordinatet er: [10.77532085 59.6658624 ]\n"
     ]
    }
   ],
   "source": [
    "average_coordinates(extract_coordinates_kml_mobil('trygve_data.kml'))"
   ]
  },
  {
   "cell_type": "markdown",
   "metadata": {},
   "source": [
    "## Scatter plot over dataen\n",
    "\n",
    "Tror dette kan være kult å ha med i rapporten."
   ]
  },
  {
   "cell_type": "code",
   "execution_count": null,
   "metadata": {},
   "outputs": [],
   "source": [
    "\n"
   ]
  }
 ],
 "metadata": {
  "kernelspec": {
   "display_name": "env",
   "language": "python",
   "name": "python3"
  },
  "language_info": {
   "codemirror_mode": {
    "name": "ipython",
    "version": 3
   },
   "file_extension": ".py",
   "mimetype": "text/x-python",
   "name": "python",
   "nbconvert_exporter": "python",
   "pygments_lexer": "ipython3",
   "version": "3.11.6"
  }
 },
 "nbformat": 4,
 "nbformat_minor": 2
}

{
 "cells": [
  {
   "cell_type": "markdown",
   "metadata": {},
   "source": [
    "# Introduksjon til Jupyter Notebook (forelesing)\n",
    "\n",
    "Vi starter dagen med å skrive funksjoner som konverterer mellom grader, radianer og gon."
   ]
  },
  {
   "cell_type": "code",
   "execution_count": 1,
   "metadata": {},
   "outputs": [],
   "source": [
    "import numpy as np\n",
    "\n",
    "# Om man ønsker å runde ned til signifikante tall kan man bruke round()\n",
    "import math\n",
    "\n",
    "def deg2rad(deg): return deg*(np.pi/180)\n",
    "\n",
    "def rad2deg(rad): return rad*(180/np.pi)\n",
    "\n",
    "def gon2deg(gon): return gon/0.9\n",
    "\n",
    "def deg2gon(deg): return deg * 0.9\n",
    "\n",
    "def gon2rad(gon): return (gon*np.pi)/200\n",
    "\n",
    "def rad2gon(rad): return (200*rad)/np.pi\n"
   ]
  },
  {
   "cell_type": "markdown",
   "metadata": {},
   "source": [
    "## Regne gjennomsnitt fra csv filer"
   ]
  },
  {
   "cell_type": "code",
   "execution_count": 2,
   "metadata": {},
   "outputs": [
    {
     "data": {
      "text/html": [
       "<div>\n",
       "<style scoped>\n",
       "    .dataframe tbody tr th:only-of-type {\n",
       "        vertical-align: middle;\n",
       "    }\n",
       "\n",
       "    .dataframe tbody tr th {\n",
       "        vertical-align: top;\n",
       "    }\n",
       "\n",
       "    .dataframe thead th {\n",
       "        text-align: right;\n",
       "    }\n",
       "</style>\n",
       "<table border=\"1\" class=\"dataframe\">\n",
       "  <thead>\n",
       "    <tr style=\"text-align: right;\">\n",
       "      <th></th>\n",
       "      <th>Longitude</th>\n",
       "      <th>Latitude</th>\n",
       "    </tr>\n",
       "  </thead>\n",
       "  <tbody>\n",
       "    <tr>\n",
       "      <th>0</th>\n",
       "      <td>10.775348</td>\n",
       "      <td>59.665860</td>\n",
       "    </tr>\n",
       "    <tr>\n",
       "      <th>1</th>\n",
       "      <td>10.775348</td>\n",
       "      <td>59.665860</td>\n",
       "    </tr>\n",
       "    <tr>\n",
       "      <th>2</th>\n",
       "      <td>10.775348</td>\n",
       "      <td>59.665860</td>\n",
       "    </tr>\n",
       "    <tr>\n",
       "      <th>3</th>\n",
       "      <td>10.775347</td>\n",
       "      <td>59.665860</td>\n",
       "    </tr>\n",
       "    <tr>\n",
       "      <th>4</th>\n",
       "      <td>10.775347</td>\n",
       "      <td>59.665860</td>\n",
       "    </tr>\n",
       "    <tr>\n",
       "      <th>...</th>\n",
       "      <td>...</td>\n",
       "      <td>...</td>\n",
       "    </tr>\n",
       "    <tr>\n",
       "      <th>79</th>\n",
       "      <td>10.775301</td>\n",
       "      <td>59.665858</td>\n",
       "    </tr>\n",
       "    <tr>\n",
       "      <th>80</th>\n",
       "      <td>10.775301</td>\n",
       "      <td>59.665858</td>\n",
       "    </tr>\n",
       "    <tr>\n",
       "      <th>81</th>\n",
       "      <td>10.775301</td>\n",
       "      <td>59.665858</td>\n",
       "    </tr>\n",
       "    <tr>\n",
       "      <th>82</th>\n",
       "      <td>10.775301</td>\n",
       "      <td>59.665858</td>\n",
       "    </tr>\n",
       "    <tr>\n",
       "      <th>83</th>\n",
       "      <td>10.775301</td>\n",
       "      <td>59.665858</td>\n",
       "    </tr>\n",
       "  </tbody>\n",
       "</table>\n",
       "<p>84 rows × 2 columns</p>\n",
       "</div>"
      ],
      "text/plain": [
       "    Longitude   Latitude\n",
       "0   10.775348  59.665860\n",
       "1   10.775348  59.665860\n",
       "2   10.775348  59.665860\n",
       "3   10.775347  59.665860\n",
       "4   10.775347  59.665860\n",
       "..        ...        ...\n",
       "79  10.775301  59.665858\n",
       "80  10.775301  59.665858\n",
       "81  10.775301  59.665858\n",
       "82  10.775301  59.665858\n",
       "83  10.775301  59.665858\n",
       "\n",
       "[84 rows x 2 columns]"
      ]
     },
     "metadata": {},
     "output_type": "display_data"
    },
    {
     "name": "stdout",
     "output_type": "stream",
     "text": [
      "Gjennomsnittet for dataset: [10.77532085 59.6658624 ]\n",
      "Standardavviket for dataset er: [2.22702736e-05 1.23005809e-05]\n"
     ]
    }
   ],
   "source": [
    "import pandas as pd\n",
    "import numpy as np\n",
    "\n",
    "# Kunne gjort dette i funksjon, men så ikke poenget\n",
    "df = pd.read_csv('dataset/coordinates_trygve_mobil.csv')\n",
    "arr = df.to_numpy()\n",
    "arr_mean = np.mean(arr, axis=0)\n",
    "arr_std = np.std(arr, axis=0)\n",
    "\n",
    "display(df)\n",
    "print(f'Gjennomsnittet for dataset: {arr_mean}')\n",
    "print(f'Standardavviket for dataset er: {arr_std}')"
   ]
  }
 ],
 "metadata": {
  "kernelspec": {
   "display_name": "env",
   "language": "python",
   "name": "python3"
  },
  "language_info": {
   "codemirror_mode": {
    "name": "ipython",
    "version": 3
   },
   "file_extension": ".py",
   "mimetype": "text/x-python",
   "name": "python",
   "nbconvert_exporter": "python",
   "pygments_lexer": "ipython3",
   "version": "3.11.6"
  }
 },
 "nbformat": 4,
 "nbformat_minor": 2
}
